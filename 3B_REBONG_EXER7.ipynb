{
  "nbformat": 4,
  "nbformat_minor": 0,
  "metadata": {
    "colab": {
      "provenance": []
    },
    "kernelspec": {
      "name": "python3",
      "display_name": "Python 3"
    },
    "language_info": {
      "name": "python"
    }
  },
  "cells": [
    {
      "cell_type": "markdown",
      "source": [
        "# Exercise 1: Setting Up the Environment"
      ],
      "metadata": {
        "id": "y1O3gaLrVHVk"
      }
    },
    {
      "cell_type": "code",
      "execution_count": null,
      "metadata": {
        "colab": {
          "base_uri": "https://localhost:8080/"
        },
        "id": "e2gbr_Z1TNp1",
        "outputId": "4807e7d0-b334-489e-9730-cf2db915d6c1"
      },
      "outputs": [
        {
          "output_type": "stream",
          "name": "stdout",
          "text": [
            "Requirement already satisfied: pgmpy in /usr/local/lib/python3.10/dist-packages (0.1.26)\n",
            "Requirement already satisfied: numpy in /usr/local/lib/python3.10/dist-packages (1.26.4)\n",
            "Requirement already satisfied: pandas in /usr/local/lib/python3.10/dist-packages (2.2.2)\n",
            "Requirement already satisfied: matplotlib in /usr/local/lib/python3.10/dist-packages (3.8.0)\n",
            "Requirement already satisfied: networkx in /usr/local/lib/python3.10/dist-packages (from pgmpy) (3.4.2)\n",
            "Requirement already satisfied: scipy in /usr/local/lib/python3.10/dist-packages (from pgmpy) (1.13.1)\n",
            "Requirement already satisfied: scikit-learn in /usr/local/lib/python3.10/dist-packages (from pgmpy) (1.5.2)\n",
            "Requirement already satisfied: pyparsing in /usr/local/lib/python3.10/dist-packages (from pgmpy) (3.2.0)\n",
            "Requirement already satisfied: torch in /usr/local/lib/python3.10/dist-packages (from pgmpy) (2.5.1+cu121)\n",
            "Requirement already satisfied: statsmodels in /usr/local/lib/python3.10/dist-packages (from pgmpy) (0.14.4)\n",
            "Requirement already satisfied: tqdm in /usr/local/lib/python3.10/dist-packages (from pgmpy) (4.66.6)\n",
            "Requirement already satisfied: joblib in /usr/local/lib/python3.10/dist-packages (from pgmpy) (1.4.2)\n",
            "Requirement already satisfied: opt-einsum in /usr/local/lib/python3.10/dist-packages (from pgmpy) (3.4.0)\n",
            "Requirement already satisfied: xgboost in /usr/local/lib/python3.10/dist-packages (from pgmpy) (2.1.2)\n",
            "Requirement already satisfied: google-generativeai in /usr/local/lib/python3.10/dist-packages (from pgmpy) (0.8.3)\n",
            "Requirement already satisfied: python-dateutil>=2.8.2 in /usr/local/lib/python3.10/dist-packages (from pandas) (2.8.2)\n",
            "Requirement already satisfied: pytz>=2020.1 in /usr/local/lib/python3.10/dist-packages (from pandas) (2024.2)\n",
            "Requirement already satisfied: tzdata>=2022.7 in /usr/local/lib/python3.10/dist-packages (from pandas) (2024.2)\n",
            "Requirement already satisfied: contourpy>=1.0.1 in /usr/local/lib/python3.10/dist-packages (from matplotlib) (1.3.1)\n",
            "Requirement already satisfied: cycler>=0.10 in /usr/local/lib/python3.10/dist-packages (from matplotlib) (0.12.1)\n",
            "Requirement already satisfied: fonttools>=4.22.0 in /usr/local/lib/python3.10/dist-packages (from matplotlib) (4.54.1)\n",
            "Requirement already satisfied: kiwisolver>=1.0.1 in /usr/local/lib/python3.10/dist-packages (from matplotlib) (1.4.7)\n",
            "Requirement already satisfied: packaging>=20.0 in /usr/local/lib/python3.10/dist-packages (from matplotlib) (24.2)\n",
            "Requirement already satisfied: pillow>=6.2.0 in /usr/local/lib/python3.10/dist-packages (from matplotlib) (11.0.0)\n",
            "Requirement already satisfied: six>=1.5 in /usr/local/lib/python3.10/dist-packages (from python-dateutil>=2.8.2->pandas) (1.16.0)\n",
            "Requirement already satisfied: google-ai-generativelanguage==0.6.10 in /usr/local/lib/python3.10/dist-packages (from google-generativeai->pgmpy) (0.6.10)\n",
            "Requirement already satisfied: google-api-core in /usr/local/lib/python3.10/dist-packages (from google-generativeai->pgmpy) (2.19.2)\n",
            "Requirement already satisfied: google-api-python-client in /usr/local/lib/python3.10/dist-packages (from google-generativeai->pgmpy) (2.151.0)\n",
            "Requirement already satisfied: google-auth>=2.15.0 in /usr/local/lib/python3.10/dist-packages (from google-generativeai->pgmpy) (2.27.0)\n",
            "Requirement already satisfied: protobuf in /usr/local/lib/python3.10/dist-packages (from google-generativeai->pgmpy) (4.25.5)\n",
            "Requirement already satisfied: pydantic in /usr/local/lib/python3.10/dist-packages (from google-generativeai->pgmpy) (2.9.2)\n",
            "Requirement already satisfied: typing-extensions in /usr/local/lib/python3.10/dist-packages (from google-generativeai->pgmpy) (4.12.2)\n",
            "Requirement already satisfied: proto-plus<2.0.0dev,>=1.22.3 in /usr/local/lib/python3.10/dist-packages (from google-ai-generativelanguage==0.6.10->google-generativeai->pgmpy) (1.25.0)\n",
            "Requirement already satisfied: threadpoolctl>=3.1.0 in /usr/local/lib/python3.10/dist-packages (from scikit-learn->pgmpy) (3.5.0)\n",
            "Requirement already satisfied: patsy>=0.5.6 in /usr/local/lib/python3.10/dist-packages (from statsmodels->pgmpy) (1.0.1)\n",
            "Requirement already satisfied: filelock in /usr/local/lib/python3.10/dist-packages (from torch->pgmpy) (3.16.1)\n",
            "Requirement already satisfied: jinja2 in /usr/local/lib/python3.10/dist-packages (from torch->pgmpy) (3.1.4)\n",
            "Requirement already satisfied: fsspec in /usr/local/lib/python3.10/dist-packages (from torch->pgmpy) (2024.10.0)\n",
            "Requirement already satisfied: sympy==1.13.1 in /usr/local/lib/python3.10/dist-packages (from torch->pgmpy) (1.13.1)\n",
            "Requirement already satisfied: mpmath<1.4,>=1.1.0 in /usr/local/lib/python3.10/dist-packages (from sympy==1.13.1->torch->pgmpy) (1.3.0)\n",
            "Requirement already satisfied: nvidia-nccl-cu12 in /usr/local/lib/python3.10/dist-packages (from xgboost->pgmpy) (2.23.4)\n",
            "Requirement already satisfied: googleapis-common-protos<2.0.dev0,>=1.56.2 in /usr/local/lib/python3.10/dist-packages (from google-api-core->google-generativeai->pgmpy) (1.66.0)\n",
            "Requirement already satisfied: requests<3.0.0.dev0,>=2.18.0 in /usr/local/lib/python3.10/dist-packages (from google-api-core->google-generativeai->pgmpy) (2.32.3)\n",
            "Requirement already satisfied: cachetools<6.0,>=2.0.0 in /usr/local/lib/python3.10/dist-packages (from google-auth>=2.15.0->google-generativeai->pgmpy) (5.5.0)\n",
            "Requirement already satisfied: pyasn1-modules>=0.2.1 in /usr/local/lib/python3.10/dist-packages (from google-auth>=2.15.0->google-generativeai->pgmpy) (0.4.1)\n",
            "Requirement already satisfied: rsa<5,>=3.1.4 in /usr/local/lib/python3.10/dist-packages (from google-auth>=2.15.0->google-generativeai->pgmpy) (4.9)\n",
            "Requirement already satisfied: httplib2<1.dev0,>=0.19.0 in /usr/local/lib/python3.10/dist-packages (from google-api-python-client->google-generativeai->pgmpy) (0.22.0)\n",
            "Requirement already satisfied: google-auth-httplib2<1.0.0,>=0.2.0 in /usr/local/lib/python3.10/dist-packages (from google-api-python-client->google-generativeai->pgmpy) (0.2.0)\n",
            "Requirement already satisfied: uritemplate<5,>=3.0.1 in /usr/local/lib/python3.10/dist-packages (from google-api-python-client->google-generativeai->pgmpy) (4.1.1)\n",
            "Requirement already satisfied: MarkupSafe>=2.0 in /usr/local/lib/python3.10/dist-packages (from jinja2->torch->pgmpy) (3.0.2)\n",
            "Requirement already satisfied: annotated-types>=0.6.0 in /usr/local/lib/python3.10/dist-packages (from pydantic->google-generativeai->pgmpy) (0.7.0)\n",
            "Requirement already satisfied: pydantic-core==2.23.4 in /usr/local/lib/python3.10/dist-packages (from pydantic->google-generativeai->pgmpy) (2.23.4)\n",
            "Requirement already satisfied: grpcio<2.0dev,>=1.33.2 in /usr/local/lib/python3.10/dist-packages (from google-api-core[grpc]!=2.0.*,!=2.1.*,!=2.10.*,!=2.2.*,!=2.3.*,!=2.4.*,!=2.5.*,!=2.6.*,!=2.7.*,!=2.8.*,!=2.9.*,<3.0.0dev,>=1.34.1->google-ai-generativelanguage==0.6.10->google-generativeai->pgmpy) (1.67.1)\n",
            "Requirement already satisfied: grpcio-status<2.0.dev0,>=1.33.2 in /usr/local/lib/python3.10/dist-packages (from google-api-core[grpc]!=2.0.*,!=2.1.*,!=2.10.*,!=2.2.*,!=2.3.*,!=2.4.*,!=2.5.*,!=2.6.*,!=2.7.*,!=2.8.*,!=2.9.*,<3.0.0dev,>=1.34.1->google-ai-generativelanguage==0.6.10->google-generativeai->pgmpy) (1.62.3)\n",
            "Requirement already satisfied: pyasn1<0.7.0,>=0.4.6 in /usr/local/lib/python3.10/dist-packages (from pyasn1-modules>=0.2.1->google-auth>=2.15.0->google-generativeai->pgmpy) (0.6.1)\n",
            "Requirement already satisfied: charset-normalizer<4,>=2 in /usr/local/lib/python3.10/dist-packages (from requests<3.0.0.dev0,>=2.18.0->google-api-core->google-generativeai->pgmpy) (3.4.0)\n",
            "Requirement already satisfied: idna<4,>=2.5 in /usr/local/lib/python3.10/dist-packages (from requests<3.0.0.dev0,>=2.18.0->google-api-core->google-generativeai->pgmpy) (3.10)\n",
            "Requirement already satisfied: urllib3<3,>=1.21.1 in /usr/local/lib/python3.10/dist-packages (from requests<3.0.0.dev0,>=2.18.0->google-api-core->google-generativeai->pgmpy) (2.2.3)\n",
            "Requirement already satisfied: certifi>=2017.4.17 in /usr/local/lib/python3.10/dist-packages (from requests<3.0.0.dev0,>=2.18.0->google-api-core->google-generativeai->pgmpy) (2024.8.30)\n"
          ]
        }
      ],
      "source": [
        "!pip install pgmpy numpy pandas matplotlib"
      ]
    },
    {
      "cell_type": "markdown",
      "source": [
        "# Exercise 2: Building a Simple DBN\n"
      ],
      "metadata": {
        "id": "Mphqj1UlVO9Z"
      }
    },
    {
      "cell_type": "code",
      "source": [
        "from pgmpy.models import DynamicBayesianNetwork as DBN\n",
        "from pgmpy.factors.discrete import TabularCPD\n",
        "\n",
        "dbn = DBN()\n",
        "\n",
        "dbn.add_edges_from([\n",
        "    (('Rain', 0), ('Sprinkler', 0)),\n",
        "    (('Rain', 0), ('Rain', 1)),\n",
        "    (('Sprinkler', 0), ('Sprinkler', 1)),\n",
        "    (('Rain', 1), ('Sprinkler', 1))\n",
        "])\n",
        "\n",
        "cpd_rain_0 = TabularCPD(('Rain', 0), 2, [[0.7], [0.3]])\n",
        "cpd_sprinkler_0 = TabularCPD(('Sprinkler', 0),\n",
        "                              2,\n",
        "                              [[0.4, 0.8], [0.6, 0.2]],\n",
        "                              evidence=[('Rain', 0)],\n",
        "                              evidence_card=[2])\n",
        "cpd_rain_1 = TabularCPD(('Rain', 1),\n",
        "                        2,\n",
        "                        [[0.6, 0.2], [0.4, 0.8]],\n",
        "                        evidence=[('Rain', 0)],\n",
        "                        evidence_card=[2])\n",
        "cpd_sprinkler_1 = TabularCPD(('Sprinkler', 1),\n",
        "                             2,\n",
        "                             [[0.2, 0.3, 0.6, 0.7], [0.8, 0.7, 0.4, 0.3]],\n",
        "                             evidence=[('Rain', 1), ('Sprinkler', 0)],\n",
        "                             evidence_card=[2,2])\n",
        "\n",
        "dbn.add_cpds(cpd_rain_0, cpd_sprinkler_0, cpd_rain_1, cpd_sprinkler_1)\n",
        "\n",
        "assert dbn.check_model()\n",
        "\n",
        "print(\"The DBN model has been successfully created and is valid.\")"
      ],
      "metadata": {
        "colab": {
          "base_uri": "https://localhost:8080/"
        },
        "id": "r5Fd9WfIVOSY",
        "outputId": "474ba17a-4766-4b01-edf8-f787f4a6b39b"
      },
      "execution_count": null,
      "outputs": [
        {
          "output_type": "stream",
          "name": "stdout",
          "text": [
            "The DBN model has been successfully created and is valid.\n"
          ]
        }
      ]
    },
    {
      "cell_type": "markdown",
      "source": [
        "# Exercise 3: Performing Inference"
      ],
      "metadata": {
        "id": "LprgK-H7XYw0"
      }
    },
    {
      "cell_type": "code",
      "source": [
        "from pgmpy.inference import DBNInference\n",
        "dbn_inf = DBNInference(dbn)\n",
        "\n",
        "evidence = {\n",
        "    ('Rain', 0): 1,\n",
        "    ('Sprinkler', 0): 1\n",
        "}\n",
        "\n",
        "query_result = dbn_inf.forward_inference([('Sprinkler', 1)], evidence)\n",
        "\n",
        "print(\"Probabilities of Sprinkler at time slice 1 given evidence:\")\n",
        "print(f\"P(Sprinkler(1) | Rain(0)=True, Sprinkler(0)=On): {query_result[('Sprinkler', 1)].values}\")"
      ],
      "metadata": {
        "colab": {
          "base_uri": "https://localhost:8080/"
        },
        "id": "sv7pV1_WXgnr",
        "outputId": "e04592f3-fd05-42b0-de81-007a6bbd2e01"
      },
      "execution_count": null,
      "outputs": [
        {
          "output_type": "stream",
          "name": "stderr",
          "text": [
            "WARNING:pgmpy:Replacing existing CPD for ('Rain', 1)\n",
            "WARNING:pgmpy:Replacing existing CPD for ('Sprinkler', 1)\n"
          ]
        },
        {
          "output_type": "stream",
          "name": "stdout",
          "text": [
            "Probabilities of Sprinkler at time slice 1 given evidence:\n",
            "P(Sprinkler(1) | Rain(0)=True, Sprinkler(0)=On): [0.62 0.38]\n"
          ]
        }
      ]
    },
    {
      "cell_type": "markdown",
      "source": [
        "# Exercise 4: Visualizing the DBN\n"
      ],
      "metadata": {
        "id": "kkeVP9ZaZ1VS"
      }
    },
    {
      "cell_type": "code",
      "source": [
        "import networkx as nx\n",
        "import matplotlib.pyplot as plt\n",
        "\n",
        "dbn = nx.DiGraph()\n",
        "states = ['State1', 'State2', 'State3', 'State4']\n",
        "dbn.add_nodes_from(states)\n",
        "transitions = [('State1', 'State2'),\n",
        "               ('State2', 'State3'),\n",
        "               ('State3', 'State4'),\n",
        "               ('State1', 'State3')]\n",
        "dbn.add_edges_from(transitions)\n",
        "\n",
        "pos = nx.spring_layout(dbn)\n",
        "\n",
        "try:\n",
        "    nx.draw(dbn, pos, with_labels=True, node_size=2000, node_color='lightblue', font_size=10, font_weight='bold', arrows=True)\n",
        "\n",
        "    edge_labels = {('State1', 'State2'): 'Transition1',\n",
        "                   ('State2', 'State3'): 'Transition2',\n",
        "                   ('State3', 'State4'): 'Transition3',\n",
        "                   ('State1', 'State3'): 'Transition4'}\n",
        "    nx.draw_networkx_edge_labels(dbn, pos, edge_labels=edge_labels)\n",
        "\n",
        "    plt.title(\"Dynamic Bayesian Network Visualization\")\n",
        "    plt.axis('off')\n",
        "    plt.show()\n",
        "except Exception as e:\n",
        "    print(f\"An error occurred: {e}\")"
      ],
      "metadata": {
        "colab": {
          "base_uri": "https://localhost:8080/",
          "height": 539
        },
        "id": "21PdXhe9ZRhU",
        "outputId": "c117f3e6-6319-440a-8d75-e3f3c7830408"
      },
      "execution_count": null,
      "outputs": [
        {
          "output_type": "display_data",
          "data": {
            "text/plain": [
              "<Figure size 640x480 with 1 Axes>"
            ],
            "image/png": "[encoded data removed]"
          },
          "metadata": {}
        }
      ]
    },
    {
      "cell_type": "markdown",
      "source": [
        "# Exercise 5: Extending the DBN"
      ],
      "metadata": {
        "id": "WCLi1wWGv6bc"
      }
    },
    {
      "cell_type": "markdown",
      "source": [
        "**Adding New Nodes and Dependencies**\n",
        "\n",
        "**Define the New Variable:**\n",
        "\n",
        "*   Introduce a new node, WetGrass, which indicates whether the grass is wet or not. This variable can be influenced by other nodes in the network, such as Rain and Sprinkler.\n",
        "\n",
        "**Establish Dependencies:**\n",
        "\n",
        "\n",
        "\n",
        "* The dependencies can be defined as follows:\n",
        "  *   WetGrass depends on both Rain and Sprinkler.\n",
        "*   The relationship can be represented as:\n",
        "  *   If it rains or the sprinkler is on, then WetGrass is likely to be true.\n",
        "\n",
        "2. Defining the Corresponding Conditional Probability Tables (CPTs)\n",
        "For each variable in the DBN, you need to define its Conditional Probability Table (CPT). Here’s an example for the new variable WetGrass:\n",
        "CPT for WetGrass:\n",
        "\n",
        "---\n",
        "\n",
        "\n",
        "Rain\tSprinkler\tWetGrass (True)\tWetGrass (False)\n",
        "\n",
        "---\n",
        "\n",
        "\n",
        "True\t  True\t  0.99\t  0.01\n",
        "\n",
        "---\n",
        "\n",
        "\n",
        "True\tFalse\t0.90\t0.10\n",
        "\n",
        "---\n",
        "\n",
        "\n",
        "False\tTrue\t0.95\t0.05\n",
        "\n",
        "---\n",
        "\n",
        "\n",
        "False\tFalse\t0.01\t0.99\n",
        "\n",
        "\n",
        "\n",
        "---\n",
        "\n",
        "This table indicates that WetGrass is highly likely to be true if either it rains or the sprinkler is on.\n",
        "\n",
        "3. Performing Inference on the Extended DBN\n",
        "After updating the DBN with new nodes and CPTs, you can perform inference to analyze how these changes affect predictions.\n",
        "\n",
        "Inference Methods:\n",
        "\n",
        "*   Use filtering, smoothing, or prediction techniques to evaluate the state of WetGrass based on observations of Rain and Sprinkler.\n",
        "\n",
        "Example Scenario:\n",
        "\n",
        "\n",
        "*   Suppose you observe that it is raining (Rain = True) and the sprinkler is off (Sprinkler = False). You would use the CPT for WetGrass to infer its state:\n",
        "  *   Given Rain = True and Sprinkler = False, use the CPT to find that WetGrass = True with a probability of 0.90.\n",
        "\n",
        "\n",
        "Analyzing Results\n",
        "After performing inference, analyze how the inclusion of WetGrass impacts your understanding of the system:\n",
        "\n",
        "\n",
        "\n",
        "*   Evaluate how often WetGrass is predicted to be true under various conditions.\n",
        "*   Assess how this affects other variables in your DBN.\n",
        "\n",
        "\n",
        "\n",
        "\n",
        "\n",
        "\n",
        "\n"
      ],
      "metadata": {
        "id": "mC_u98MXv-es"
      }
    }
  ]
}