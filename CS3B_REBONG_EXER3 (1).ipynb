{
  "nbformat": 4,
  "nbformat_minor": 0,
  "metadata": {
    "colab": {
      "provenance": []
    },
    "kernelspec": {
      "name": "python3",
      "display_name": "Python 3"
    },
    "language_info": {
      "name": "python"
    }
  },
  "cells": [
    {
      "cell_type": "markdown",
      "source": [
        "# Part 1: Defining the Problem and System Design\n",
        "\n",
        "\n"
      ],
      "metadata": {
        "id": "RL8fY0FMFjXl"
      }
    },
    {
      "cell_type": "code",
      "execution_count": 7,
      "metadata": {
        "id": "ntTr-toRFaS2"
      },
      "outputs": [],
      "source": [
        "import numpy as np\n",
        "import matplotlib.pyplot as plt\n",
        "from scipy.stats import binom"
      ]
    },
    {
      "cell_type": "code",
      "source": [
        "disease = \"Diabetes Mellitus\"\n",
        "contributing_factors = [\n",
        "    \"Genetic Predisposition\",\n",
        "    \"Obesity\",\n",
        "    \"Sedentary Lifestyle\",\n",
        "    \"Diet\",\n",
        "    \"Age\",\n",
        "    \"Ethnicity\"\n",
        "]\n",
        "\n",
        "print(\"Disease Selected:\", disease)\n",
        "print(\"Contributing Factors:\")\n",
        "for factor in contributing_factors:\n",
        "    print(\"-\", factor)"
      ],
      "metadata": {
        "colab": {
          "base_uri": "https://localhost:8080/"
        },
        "id": "L00dyZRVF_Ba",
        "outputId": "ccd55d39-e17e-4edf-e2fe-a0debd3ce2c0"
      },
      "execution_count": 8,
      "outputs": [
        {
          "output_type": "stream",
          "name": "stdout",
          "text": [
            "Disease Selected: Diabetes Mellitus\n",
            "Contributing Factors:\n",
            "- Genetic Predisposition\n",
            "- Obesity\n",
            "- Sedentary Lifestyle\n",
            "- Diet\n",
            "- Age\n",
            "- Ethnicity\n"
          ]
        }
      ]
    },
    {
      "cell_type": "markdown",
      "source": [
        "# Part 2: Basic Probability Computation"
      ],
      "metadata": {
        "id": "E4VDFlUjGa5Y"
      }
    },
    {
      "cell_type": "code",
      "source": [
        "prior_prob = 0.02\n",
        "test_sens = 0.95\n",
        "fpr = 0.05\n",
        "positive_result = 0.06\n",
        "\n",
        "bayes = test_sens * prior_prob / ((test_sens * prior_prob) + (fpr * (1 - prior_prob)))\n",
        "print(\"{:.2f}\".format(bayes))"
      ],
      "metadata": {
        "colab": {
          "base_uri": "https://localhost:8080/"
        },
        "id": "PWzxknTtGqFi",
        "outputId": "0410de8e-09c1-4845-c73b-a4a607891734"
      },
      "execution_count": 14,
      "outputs": [
        {
          "output_type": "stream",
          "name": "stdout",
          "text": [
            "0.28\n"
          ]
        }
      ]
    },
    {
      "cell_type": "markdown",
      "source": [
        "# Part 3: Decision-Making Simulation"
      ],
      "metadata": {
        "id": "ezTofEnQODrL"
      }
    },
    {
      "cell_type": "code",
      "source": [
        "treatment = 0.7\n",
        "benefit = 100\n",
        "fail = 0.3\n",
        "loss = 50\n",
        "\n",
        "expected_health_improvement = treatment * benefit - fail * loss\n",
        "print(\"{:.2f}\".format(expected_health_improvement))"
      ],
      "metadata": {
        "colab": {
          "base_uri": "https://localhost:8080/"
        },
        "id": "xb9DYVC7NL65",
        "outputId": "f5a0d1f3-00b8-4deb-b3ca-e9c5c5b82715"
      },
      "execution_count": 15,
      "outputs": [
        {
          "output_type": "stream",
          "name": "stdout",
          "text": [
            "55.00\n"
          ]
        }
      ]
    },
    {
      "cell_type": "markdown",
      "source": [
        "# Part 4: Visualize a probability distribution"
      ],
      "metadata": {
        "id": "K8rLITXSIw9P"
      }
    },
    {
      "cell_type": "code",
      "source": [
        "n = 5\n",
        "p = 0.5\n",
        "\n",
        "probabilities = [binom.pmf(k, n, p) for k in range(n + 1)]\n",
        "\n",
        "fig, ax = plt.subplots()\n",
        "bars = ax.bar(range(n + 1), probabilities, color='skyblue', edgecolor='black')\n",
        "\n",
        "for bar in bars:\n",
        "  yval = bar.get_height()\n",
        "  plt.text(bar.get_x() + bar.get_width()/2, yval, round(yval, 2), ha='center', va='bottom')\n",
        "\n",
        "ax.set_xlabel('Number of Heads')\n",
        "ax.set_ylabel('Probability')\n",
        "ax.set_title('Probability Distribution of Coin Flips')\n",
        "ax.set_xticks(range(n + 1))\n",
        "ax.set_xticklabels([str(i) for i in range(n + 1)])\n",
        "plt.show()\n"
      ],
      "metadata": {
        "colab": {
          "base_uri": "https://localhost:8080/",
          "height": 472
        },
        "id": "xwUlLKWEI3S-",
        "outputId": "3695238d-e20d-483b-986d-f7e5f6a62e68"
      },
      "execution_count": 18,
      "outputs": [
        {
          "output_type": "display_data",
          "data": {
            "text/plain": [
              "<Figure size 640x480 with 1 Axes>"
            ],
            "image/png": "[encoded data removed]"
          },
          "metadata": {}
        }
      ]
    },
    {
      "cell_type": "markdown",
      "source": [
        "# Reflection"
      ],
      "metadata": {
        "id": "wtvHFCJpbgcU"
      }
    },
    {
      "cell_type": "code",
      "source": [
        "reflection = \"\"\"\n",
        "Probability theory plays a crucial role in decision-making processes, especially in medical diagnostics like diabetes detection.\n",
        "By applying Bayesian inference, healthcare professionals can update their beliefs about a patient's likelihood of having a disease based on new evidence (symptoms).\n",
        "This systematic approach enhances diagnostic accuracy and helps in resource allocation and patient management strategies.\n",
        "\"\"\"\n",
        "print(reflection)"
      ],
      "metadata": {
        "colab": {
          "base_uri": "https://localhost:8080/"
        },
        "id": "5lYnvJSda1dj",
        "outputId": "d6c87c7e-7f81-4a73-9b49-fb077c7d8063"
      },
      "execution_count": 19,
      "outputs": [
        {
          "output_type": "stream",
          "name": "stdout",
          "text": [
            "\n",
            "Probability theory plays a crucial role in decision-making processes, especially in medical diagnostics like diabetes detection. \n",
            "By applying Bayesian inference, healthcare professionals can update their beliefs about a patient's likelihood of having a disease based on new evidence (symptoms). \n",
            "This systematic approach enhances diagnostic accuracy and helps in resource allocation and patient management strategies.\n",
            "\n"
          ]
        }
      ]
    }
  ]
}